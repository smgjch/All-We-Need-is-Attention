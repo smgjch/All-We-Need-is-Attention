{
 "cells": [
  {
   "cell_type": "markdown",
   "metadata": {
    "collapsed": true
   },
   "source": [
    "# Notebook 1: End-to-End Machine Learning Project\n",
    "\n",
    "## Introduction\n",
    "\n",
    "In this notebook we will take a deep dive into machine learning, and investigate some of the steps involved in a prediction task - from setting up an appropriate experimental environment and loadint the initial data set, through to performing a regression analysis by applying a variety of machine learning algorithms to the data.\n",
    "\n",
    "We have not yet covered all of the techniques which we will use in this notebook, and indeed we will not cover all of them during the course of this module. However, the purpose of this notebook is to give you an overview of what a machine learning project looks like overall. In future classes you will take a look at the  application of algorithms which we will discuss in the lectures in much more detail.\n",
    "\n",
    "This particular notebook is heavily based on the second chapter of 'Hands-On Machine Learning with Scikit-Learn & Tensorflow' by A. Geron - which is an excellent resource for introducing the practicalities of machine learning."
   ]
  },
  {
   "cell_type": "markdown",
   "metadata": {},
   "source": [
    "## Guidelines\n",
    "\n",
    "- The structure of the code is given to you and you will need to fill in the parts corresponding to each question. \n",
    "- Do not modify/erase other parts of the code if you have not been given specific instructions to do so.\n",
    "- When you are asked to insert code, do so between the areas which begin:\n",
    "  \n",
    "  `##########################################################`\n",
    "  \n",
    "  `# TO_DO`\n",
    "  \n",
    "  `# [your code here]`\n",
    "   \n",
    "   And which end:\n",
    "   \n",
    "  `# /TO_DO\n",
    "   ##########################################################`\n",
    "\n",
    "\n",
    "- When you are asked to comment on the results you should give clear and comprehensible explanations. Write the comments in a 'Code Cell' with a sign `#` at the beginning of each row, and in the areas which begin:\n",
    "\n",
    "  `# [INSERT YOUR ANSWER HERE]`"
   ]
  },
  {
   "cell_type": "markdown",
   "metadata": {},
   "source": [
    "## Imports\n",
    "\n",
    "Please do not change the cell below, you will see a number of imports. All these packages are relevant for the assignment and it is important that you get used to them. You can find more information about them in the respective documentations. The most relevant for this notebook is Scikit-Learn, which is a popular machine learning library, which features various algorithms on classification, regression and clustering. Most algorithms introduced in this course will be implemented in Scikit-Learn:\n",
    "\n",
    "https://scikit-learn.org/stable/"
   ]
  },
  {
   "cell_type": "code",
   "execution_count": 1,
   "metadata": {},
   "outputs": [],
   "source": [
    "import numpy as np\n",
    "import pandas as pd\n",
    "\n",
    "from sklearn.preprocessing import StandardScaler\n",
    "from sklearn.impute import SimpleImputer\n",
    "from sklearn.model_selection import train_test_split\n",
    "from sklearn.metrics import mean_absolute_error, mean_squared_error\n",
    "from sklearn.datasets import load_boston\n",
    "\n",
    "from sklearn.linear_model import LinearRegression\n",
    "from sklearn.neighbors import KNeighborsRegressor\n",
    "from sklearn.ensemble import GradientBoostingRegressor\n",
    "\n",
    "import matplotlib.pyplot as plt"
   ]
  },
  {
   "cell_type": "markdown",
   "metadata": {},
   "source": [
    "## Load Data\n",
    "For the puposes of illustration in this notebook we will use a modified version of the Boston housing price data set. This version contains 506 samples, each of which consists of 11 features and 1 label of housing price values. The features are:\n",
    "\n",
    "1. CRIM: per capita crime rate by town.\n",
    "2. ZN: proportion of residential land zoned for lots over 25,000 sq.ft.\n",
    "3. INDUS: proportion of non-retail business acres per town.\n",
    "4. CHAS: Charles River dummy variable (= 1 if tract bounds river; 0 otherwise).\n",
    "5. NOX: nitrogen oxides concentration (parts per 10 million).\n",
    "6. RM: average number of rooms per dwelling.\n",
    "7. AGE: proportion of owner-occupied units built prior to 1940.\n",
    "8. DIS: weighted mean of distances to five Boston employment centres.\n",
    "9. RAD: index of accessibility to radial highways.\n",
    "10. TAX: full-value property-tax rate per $10,000.\n",
    "11. PTRATIO: pupil-teacher ratio by town."
   ]
  },
  {
   "cell_type": "markdown",
   "metadata": {},
   "source": [
    "First we set the path for the dataset repository, you should enter your working directory here:"
   ]
  },
  {
   "cell_type": "code",
   "execution_count": 2,
   "metadata": {},
   "outputs": [],
   "source": [
    "dirName = #ENTER YOUR WORKING DRIECTORY HERE#\n",
    "dirName_feats = dirName + 'housing_features.csv'\n",
    "dirName_targs = dirName + 'housing_target.csv'\n",
    "dirName_names = dirName + 'housing_names.csv'"
   ]
  },
  {
   "cell_type": "markdown",
   "metadata": {},
   "source": [
    "We will now load the data into a pandas dataframe using `pd.DataFrame`:"
   ]
  },
  {
   "cell_type": "code",
   "execution_count": 3,
   "metadata": {},
   "outputs": [],
   "source": [
    "df_housing = pd.read_csv(dirName_feats)"
   ]
  },
  {
   "cell_type": "markdown",
   "metadata": {},
   "source": [
    "A brief numerical description of dataset can be viewed by the following function:"
   ]
  },
  {
   "cell_type": "code",
   "execution_count": 4,
   "metadata": {},
   "outputs": [
    {
     "data": {
      "text/html": [
       "<div>\n",
       "<style scoped>\n",
       "    .dataframe tbody tr th:only-of-type {\n",
       "        vertical-align: middle;\n",
       "    }\n",
       "\n",
       "    .dataframe tbody tr th {\n",
       "        vertical-align: top;\n",
       "    }\n",
       "\n",
       "    .dataframe thead th {\n",
       "        text-align: right;\n",
       "    }\n",
       "</style>\n",
       "<table border=\"1\" class=\"dataframe\">\n",
       "  <thead>\n",
       "    <tr style=\"text-align: right;\">\n",
       "      <th></th>\n",
       "      <th>CRIM</th>\n",
       "      <th>ZN</th>\n",
       "      <th>INDUS</th>\n",
       "      <th>CHAS</th>\n",
       "      <th>NOX</th>\n",
       "      <th>RM</th>\n",
       "      <th>AGE</th>\n",
       "      <th>DIS</th>\n",
       "      <th>RAD</th>\n",
       "      <th>TAX</th>\n",
       "      <th>PTRATIO</th>\n",
       "    </tr>\n",
       "  </thead>\n",
       "  <tbody>\n",
       "    <tr>\n",
       "      <th>count</th>\n",
       "      <td>506.000000</td>\n",
       "      <td>506.000000</td>\n",
       "      <td>506.000000</td>\n",
       "      <td>506.000000</td>\n",
       "      <td>506.000000</td>\n",
       "      <td>506.000000</td>\n",
       "      <td>506.000000</td>\n",
       "      <td>506.000000</td>\n",
       "      <td>506.000000</td>\n",
       "      <td>506.000000</td>\n",
       "      <td>506.000000</td>\n",
       "    </tr>\n",
       "    <tr>\n",
       "      <th>mean</th>\n",
       "      <td>3.613524</td>\n",
       "      <td>11.363636</td>\n",
       "      <td>11.136779</td>\n",
       "      <td>0.069170</td>\n",
       "      <td>0.554695</td>\n",
       "      <td>6.284634</td>\n",
       "      <td>68.574901</td>\n",
       "      <td>3.795043</td>\n",
       "      <td>9.549407</td>\n",
       "      <td>408.237154</td>\n",
       "      <td>18.455534</td>\n",
       "    </tr>\n",
       "    <tr>\n",
       "      <th>std</th>\n",
       "      <td>8.601545</td>\n",
       "      <td>23.322453</td>\n",
       "      <td>6.860353</td>\n",
       "      <td>0.253994</td>\n",
       "      <td>0.115878</td>\n",
       "      <td>0.702617</td>\n",
       "      <td>28.148861</td>\n",
       "      <td>2.105710</td>\n",
       "      <td>8.707259</td>\n",
       "      <td>168.537116</td>\n",
       "      <td>2.164946</td>\n",
       "    </tr>\n",
       "    <tr>\n",
       "      <th>min</th>\n",
       "      <td>0.006320</td>\n",
       "      <td>0.000000</td>\n",
       "      <td>0.460000</td>\n",
       "      <td>0.000000</td>\n",
       "      <td>0.385000</td>\n",
       "      <td>3.561000</td>\n",
       "      <td>2.900000</td>\n",
       "      <td>1.129600</td>\n",
       "      <td>1.000000</td>\n",
       "      <td>187.000000</td>\n",
       "      <td>12.600000</td>\n",
       "    </tr>\n",
       "    <tr>\n",
       "      <th>25%</th>\n",
       "      <td>0.082045</td>\n",
       "      <td>0.000000</td>\n",
       "      <td>5.190000</td>\n",
       "      <td>0.000000</td>\n",
       "      <td>0.449000</td>\n",
       "      <td>5.885500</td>\n",
       "      <td>45.025000</td>\n",
       "      <td>2.100175</td>\n",
       "      <td>4.000000</td>\n",
       "      <td>279.000000</td>\n",
       "      <td>17.400000</td>\n",
       "    </tr>\n",
       "    <tr>\n",
       "      <th>50%</th>\n",
       "      <td>0.256510</td>\n",
       "      <td>0.000000</td>\n",
       "      <td>9.690000</td>\n",
       "      <td>0.000000</td>\n",
       "      <td>0.538000</td>\n",
       "      <td>6.208500</td>\n",
       "      <td>77.500000</td>\n",
       "      <td>3.207450</td>\n",
       "      <td>5.000000</td>\n",
       "      <td>330.000000</td>\n",
       "      <td>19.050000</td>\n",
       "    </tr>\n",
       "    <tr>\n",
       "      <th>75%</th>\n",
       "      <td>3.677082</td>\n",
       "      <td>12.500000</td>\n",
       "      <td>18.100000</td>\n",
       "      <td>0.000000</td>\n",
       "      <td>0.624000</td>\n",
       "      <td>6.623500</td>\n",
       "      <td>94.075000</td>\n",
       "      <td>5.188425</td>\n",
       "      <td>24.000000</td>\n",
       "      <td>666.000000</td>\n",
       "      <td>20.200000</td>\n",
       "    </tr>\n",
       "    <tr>\n",
       "      <th>max</th>\n",
       "      <td>88.976200</td>\n",
       "      <td>100.000000</td>\n",
       "      <td>27.740000</td>\n",
       "      <td>1.000000</td>\n",
       "      <td>0.871000</td>\n",
       "      <td>8.780000</td>\n",
       "      <td>100.000000</td>\n",
       "      <td>12.126500</td>\n",
       "      <td>24.000000</td>\n",
       "      <td>711.000000</td>\n",
       "      <td>22.000000</td>\n",
       "    </tr>\n",
       "  </tbody>\n",
       "</table>\n",
       "</div>"
      ],
      "text/plain": [
       "             CRIM          ZN       INDUS        CHAS         NOX          RM  \\\n",
       "count  506.000000  506.000000  506.000000  506.000000  506.000000  506.000000   \n",
       "mean     3.613524   11.363636   11.136779    0.069170    0.554695    6.284634   \n",
       "std      8.601545   23.322453    6.860353    0.253994    0.115878    0.702617   \n",
       "min      0.006320    0.000000    0.460000    0.000000    0.385000    3.561000   \n",
       "25%      0.082045    0.000000    5.190000    0.000000    0.449000    5.885500   \n",
       "50%      0.256510    0.000000    9.690000    0.000000    0.538000    6.208500   \n",
       "75%      3.677082   12.500000   18.100000    0.000000    0.624000    6.623500   \n",
       "max     88.976200  100.000000   27.740000    1.000000    0.871000    8.780000   \n",
       "\n",
       "              AGE         DIS         RAD         TAX     PTRATIO  \n",
       "count  506.000000  506.000000  506.000000  506.000000  506.000000  \n",
       "mean    68.574901    3.795043    9.549407  408.237154   18.455534  \n",
       "std     28.148861    2.105710    8.707259  168.537116    2.164946  \n",
       "min      2.900000    1.129600    1.000000  187.000000   12.600000  \n",
       "25%     45.025000    2.100175    4.000000  279.000000   17.400000  \n",
       "50%     77.500000    3.207450    5.000000  330.000000   19.050000  \n",
       "75%     94.075000    5.188425   24.000000  666.000000   20.200000  \n",
       "max    100.000000   12.126500   24.000000  711.000000   22.000000  "
      ]
     },
     "execution_count": 4,
     "metadata": {},
     "output_type": "execute_result"
    }
   ],
   "source": [
    "df_housing.describe()"
   ]
  },
  {
   "cell_type": "markdown",
   "metadata": {},
   "source": [
    "And we can take a look at the top 5 rows of the data as follows:"
   ]
  },
  {
   "cell_type": "code",
   "execution_count": 5,
   "metadata": {},
   "outputs": [
    {
     "data": {
      "text/html": [
       "<div>\n",
       "<style scoped>\n",
       "    .dataframe tbody tr th:only-of-type {\n",
       "        vertical-align: middle;\n",
       "    }\n",
       "\n",
       "    .dataframe tbody tr th {\n",
       "        vertical-align: top;\n",
       "    }\n",
       "\n",
       "    .dataframe thead th {\n",
       "        text-align: right;\n",
       "    }\n",
       "</style>\n",
       "<table border=\"1\" class=\"dataframe\">\n",
       "  <thead>\n",
       "    <tr style=\"text-align: right;\">\n",
       "      <th></th>\n",
       "      <th>CRIM</th>\n",
       "      <th>ZN</th>\n",
       "      <th>INDUS</th>\n",
       "      <th>CHAS</th>\n",
       "      <th>NOX</th>\n",
       "      <th>RM</th>\n",
       "      <th>AGE</th>\n",
       "      <th>DIS</th>\n",
       "      <th>RAD</th>\n",
       "      <th>TAX</th>\n",
       "      <th>PTRATIO</th>\n",
       "    </tr>\n",
       "  </thead>\n",
       "  <tbody>\n",
       "    <tr>\n",
       "      <th>0</th>\n",
       "      <td>0.00632</td>\n",
       "      <td>18.0</td>\n",
       "      <td>2.31</td>\n",
       "      <td>0.0</td>\n",
       "      <td>0.538</td>\n",
       "      <td>6.575</td>\n",
       "      <td>65.2</td>\n",
       "      <td>4.0900</td>\n",
       "      <td>1.0</td>\n",
       "      <td>296.0</td>\n",
       "      <td>15.3</td>\n",
       "    </tr>\n",
       "    <tr>\n",
       "      <th>1</th>\n",
       "      <td>0.02731</td>\n",
       "      <td>0.0</td>\n",
       "      <td>7.07</td>\n",
       "      <td>0.0</td>\n",
       "      <td>0.469</td>\n",
       "      <td>6.421</td>\n",
       "      <td>78.9</td>\n",
       "      <td>4.9671</td>\n",
       "      <td>2.0</td>\n",
       "      <td>242.0</td>\n",
       "      <td>17.8</td>\n",
       "    </tr>\n",
       "    <tr>\n",
       "      <th>2</th>\n",
       "      <td>0.02729</td>\n",
       "      <td>0.0</td>\n",
       "      <td>7.07</td>\n",
       "      <td>0.0</td>\n",
       "      <td>0.469</td>\n",
       "      <td>7.185</td>\n",
       "      <td>61.1</td>\n",
       "      <td>4.9671</td>\n",
       "      <td>2.0</td>\n",
       "      <td>242.0</td>\n",
       "      <td>17.8</td>\n",
       "    </tr>\n",
       "    <tr>\n",
       "      <th>3</th>\n",
       "      <td>0.03237</td>\n",
       "      <td>0.0</td>\n",
       "      <td>2.18</td>\n",
       "      <td>0.0</td>\n",
       "      <td>0.458</td>\n",
       "      <td>6.998</td>\n",
       "      <td>45.8</td>\n",
       "      <td>6.0622</td>\n",
       "      <td>3.0</td>\n",
       "      <td>222.0</td>\n",
       "      <td>18.7</td>\n",
       "    </tr>\n",
       "    <tr>\n",
       "      <th>4</th>\n",
       "      <td>0.06905</td>\n",
       "      <td>0.0</td>\n",
       "      <td>2.18</td>\n",
       "      <td>0.0</td>\n",
       "      <td>0.458</td>\n",
       "      <td>7.147</td>\n",
       "      <td>54.2</td>\n",
       "      <td>6.0622</td>\n",
       "      <td>3.0</td>\n",
       "      <td>222.0</td>\n",
       "      <td>18.7</td>\n",
       "    </tr>\n",
       "  </tbody>\n",
       "</table>\n",
       "</div>"
      ],
      "text/plain": [
       "      CRIM    ZN  INDUS  CHAS    NOX     RM   AGE     DIS  RAD    TAX  PTRATIO\n",
       "0  0.00632  18.0   2.31   0.0  0.538  6.575  65.2  4.0900  1.0  296.0     15.3\n",
       "1  0.02731   0.0   7.07   0.0  0.469  6.421  78.9  4.9671  2.0  242.0     17.8\n",
       "2  0.02729   0.0   7.07   0.0  0.469  7.185  61.1  4.9671  2.0  242.0     17.8\n",
       "3  0.03237   0.0   2.18   0.0  0.458  6.998  45.8  6.0622  3.0  222.0     18.7\n",
       "4  0.06905   0.0   2.18   0.0  0.458  7.147  54.2  6.0622  3.0  222.0     18.7"
      ]
     },
     "execution_count": 5,
     "metadata": {},
     "output_type": "execute_result"
    }
   ],
   "source": [
    "df_housing.head()"
   ]
  },
  {
   "cell_type": "markdown",
   "metadata": {},
   "source": [
    "Finally, let's create separate holders for the input and output data:"
   ]
  },
  {
   "cell_type": "code",
   "execution_count": 6,
   "metadata": {},
   "outputs": [],
   "source": [
    "X=np.genfromtxt(dirName_feats,delimiter=',',skip_header=1)\n",
    "y=np.genfromtxt(dirName_targs,delimiter=',',skip_header=1)\n",
    "names=np.genfromtxt(dirName_names, dtype='str',skip_header=1)"
   ]
  },
  {
   "cell_type": "markdown",
   "metadata": {},
   "source": [
    "## Dataset Preprocessing\n",
    "\n",
    "Now we will take a look at different features. Please note that these steps are not required in predicting Boston housing prices, but they are here just to give you some insights into the various types of data."
   ]
  },
  {
   "cell_type": "markdown",
   "metadata": {},
   "source": [
    "### _Missing Data Items_\n",
    "\n",
    "First let's synthetically randomly replace some data entries with `nan`:"
   ]
  },
  {
   "cell_type": "code",
   "execution_count": 7,
   "metadata": {},
   "outputs": [],
   "source": [
    "np.random.seed(42)\n",
    "\n",
    "X_new = X.copy()\n",
    "mask = np.random.randint(0, 2, size=X.shape).astype(np.bool)\n",
    "X_new[mask] = np.nan"
   ]
  },
  {
   "cell_type": "markdown",
   "metadata": {},
   "source": [
    "Now try to replacing the missing values with the mean value of the corresponding column:"
   ]
  },
  {
   "cell_type": "code",
   "execution_count": 8,
   "metadata": {},
   "outputs": [],
   "source": [
    "imp = SimpleImputer(strategy='mean')\n",
    "X_replace_with_median = imp.fit_transform(X_new)"
   ]
  },
  {
   "cell_type": "markdown",
   "metadata": {},
   "source": [
    "__Task:__  \n",
    "Now please try other strategies (for example, replacing missing values with the median or the most frequent value).\n",
    "\n",
    "*Hint: check the parameter 'strategy' in the `sklearn.impute.SimpleImputer` module. You may also find `help(SimpleImputer)` helpful.*"
   ]
  },
  {
   "cell_type": "code",
   "execution_count": 9,
   "metadata": {},
   "outputs": [],
   "source": [
    "########################################################\n",
    "# TO_DO\n",
    "#[your code here]\n",
    "\n",
    "imp = SimpleImputer(strategy='median')\n",
    "X_replace_with_median = imp.fit_transform(X_new)\n",
    "\n",
    "imp = SimpleImputer(strategy='most_frequent')\n",
    "X_replace_with_freq = imp.fit_transform(X_new)\n",
    "\n",
    "# /TO_DO\n",
    "########################################################"
   ]
  },
  {
   "cell_type": "markdown",
   "metadata": {},
   "source": [
    "### _Training and Test Data_\n",
    "\n",
    "The dataset is generally split into two parts: the training set and the test set. We use the training set for training a model, then apply the trained model to the test set, in order to evaluate the performance of our model.\n",
    "\n",
    "First let's split the data (randomly):"
   ]
  },
  {
   "cell_type": "code",
   "execution_count": 10,
   "metadata": {},
   "outputs": [],
   "source": [
    "X_train, X_test, y_train, y_test = train_test_split(X, y, test_size=0.2, random_state=42)"
   ]
  },
  {
   "cell_type": "markdown",
   "metadata": {},
   "source": [
    "### _Standardisation of the Data Set_\n",
    "\n",
    "For many machiner learning algorithms very different models can be learned depedning on the scale of the input data. Quite often this can give misleading results, so standardisation of a data set is a very common technique which is applied prior to model training. The standardisation process removes the mean and scales each feature column to unit variance:"
   ]
  },
  {
   "cell_type": "code",
   "execution_count": 11,
   "metadata": {},
   "outputs": [],
   "source": [
    "scaler = StandardScaler()\n",
    "X_train = scaler.fit_transform(X_train)\n",
    "X_test = scaler.transform(X_test)"
   ]
  },
  {
   "cell_type": "markdown",
   "metadata": {},
   "source": [
    "## Regression\n",
    "\n",
    "Now that we have transformed our data into a more useable format, we can begin the regression task.\n",
    "\n",
    "This section solves the regression problem with different methods. We also compute mean squared error (MSE) and mean absolute error (MAE) for future use.\n",
    "\n",
    "First we create a naive baseline for compariosn, and predict the housing prices using the average values of the output data of the training samples:"
   ]
  },
  {
   "cell_type": "code",
   "execution_count": 12,
   "metadata": {},
   "outputs": [],
   "source": [
    "y_avg = np.ones(len(y_test)) * np.mean(y_train)\n",
    "\n",
    "mse_avg = mean_squared_error(y_test, y_avg)\n",
    "mae_avg = mean_absolute_error(y_test, y_avg)"
   ]
  },
  {
   "cell_type": "markdown",
   "metadata": {},
   "source": [
    "### _Linear Regression_\n",
    "\n",
    "Using the Scikit-Learn `LinearRegression` function we perform linear regression, then we compute the MSE's and MAE's:"
   ]
  },
  {
   "cell_type": "code",
   "execution_count": 13,
   "metadata": {},
   "outputs": [],
   "source": [
    "lr = LinearRegression()\n",
    "lr.fit(X_train, y_train)\n",
    "\n",
    "y_lr = lr.predict(X_test)\n",
    "\n",
    "mse_lr = mean_squared_error(y_test, y_lr)\n",
    "mae_lr = mean_absolute_error(y_test, y_lr)"
   ]
  },
  {
   "cell_type": "markdown",
   "metadata": {},
   "source": [
    "__Task:__  \n",
    "Now repeat this analysis, but this time using only one feature at a time as input data. Compute the MSE's and MAE's:"
   ]
  },
  {
   "cell_type": "code",
   "execution_count": 14,
   "metadata": {},
   "outputs": [
    {
     "data": {
      "text/html": [
       "<div>\n",
       "<style scoped>\n",
       "    .dataframe tbody tr th:only-of-type {\n",
       "        vertical-align: middle;\n",
       "    }\n",
       "\n",
       "    .dataframe tbody tr th {\n",
       "        vertical-align: top;\n",
       "    }\n",
       "\n",
       "    .dataframe thead th {\n",
       "        text-align: right;\n",
       "    }\n",
       "</style>\n",
       "<table border=\"1\" class=\"dataframe\">\n",
       "  <thead>\n",
       "    <tr style=\"text-align: right;\">\n",
       "      <th></th>\n",
       "      <th>CRIM</th>\n",
       "      <th>ZN</th>\n",
       "      <th>INDUS</th>\n",
       "      <th>CHAS</th>\n",
       "      <th>NOX</th>\n",
       "      <th>RM</th>\n",
       "      <th>AGE</th>\n",
       "      <th>DIS</th>\n",
       "      <th>RAD</th>\n",
       "      <th>TAX</th>\n",
       "      <th>PTRATIO</th>\n",
       "    </tr>\n",
       "  </thead>\n",
       "  <tbody>\n",
       "    <tr>\n",
       "      <th>MAE</th>\n",
       "      <td>5.631052</td>\n",
       "      <td>5.309346</td>\n",
       "      <td>5.249579</td>\n",
       "      <td>6.219632</td>\n",
       "      <td>5.695365</td>\n",
       "      <td>4.478336</td>\n",
       "      <td>5.335749</td>\n",
       "      <td>5.967846</td>\n",
       "      <td>5.824226</td>\n",
       "      <td>5.318716</td>\n",
       "      <td>5.212480</td>\n",
       "    </tr>\n",
       "    <tr>\n",
       "      <th>MSE</th>\n",
       "      <td>61.694137</td>\n",
       "      <td>54.347454</td>\n",
       "      <td>53.063745</td>\n",
       "      <td>74.734405</td>\n",
       "      <td>58.285326</td>\n",
       "      <td>46.144775</td>\n",
       "      <td>55.732582</td>\n",
       "      <td>67.956919</td>\n",
       "      <td>65.651743</td>\n",
       "      <td>55.638030</td>\n",
       "      <td>49.976378</td>\n",
       "    </tr>\n",
       "  </tbody>\n",
       "</table>\n",
       "</div>"
      ],
      "text/plain": [
       "          CRIM         ZN      INDUS       CHAS        NOX         RM  \\\n",
       "MAE   5.631052   5.309346   5.249579   6.219632   5.695365   4.478336   \n",
       "MSE  61.694137  54.347454  53.063745  74.734405  58.285326  46.144775   \n",
       "\n",
       "           AGE        DIS        RAD        TAX    PTRATIO  \n",
       "MAE   5.335749   5.967846   5.824226   5.318716   5.212480  \n",
       "MSE  55.732582  67.956919  65.651743  55.638030  49.976378  "
      ]
     },
     "execution_count": 14,
     "metadata": {},
     "output_type": "execute_result"
    }
   ],
   "source": [
    "n_sample, n_feature = X_train.shape\n",
    "\n",
    "mse_lr_per_feature = []\n",
    "mae_lr_per_feature = []\n",
    "\n",
    "########################################################\n",
    "# TO_DO\n",
    "#[your code here]\n",
    "\n",
    "for counter in range(X_train.shape[1]):\n",
    "    lr = LinearRegression()\n",
    "    lr.fit(np.reshape(X_train[:, counter], [X_train.shape[0], 1]), y_train)   \n",
    "    y_lr = lr.predict(np.reshape(X_test[:, counter], [X_test.shape[0], 1]))\n",
    "    \n",
    "    mse_lr_per_feature.append(mean_squared_error(y_test, y_lr))\n",
    "    mae_lr_per_feature.append(mean_absolute_error(y_test, y_lr))\n",
    "\n",
    "errors = pd.DataFrame.from_dict({'MAE': mae_lr_per_feature,\n",
    "                                 'MSE': mse_lr_per_feature},\n",
    "                                 orient='index', columns=names)\n",
    "\n",
    "# /TO_DO\n",
    "########################################################\n",
    "\n",
    "errors"
   ]
  },
  {
   "cell_type": "markdown",
   "metadata": {},
   "source": [
    "### _k Nearest Neighbor (kNN) Regression_\n",
    "\n",
    "Using the Scikit-Learn `KNeighborsRegressor` function we perform regression, setting the `n_neigbours` hyperparamter to 3:"
   ]
  },
  {
   "cell_type": "code",
   "execution_count": 15,
   "metadata": {},
   "outputs": [],
   "source": [
    "n_neighbors = 3\n",
    "neigh = KNeighborsRegressor(n_neighbors=n_neighbors)\n",
    "neigh.fit(X_train, y_train)\n",
    "\n",
    "y_neigh = neigh.predict(X_test)\n",
    "\n",
    "mse_neigh = mean_squared_error(y_test, y_neigh)\n",
    "mae_neigh = mean_absolute_error(y_test, y_neigh)"
   ]
  },
  {
   "cell_type": "markdown",
   "metadata": {},
   "source": [
    "__Task:__  \n",
    "Now repeat the analysis, but this time use different settings of the number of nearest neighbours. Compute the MSE's and MAE's."
   ]
  },
  {
   "cell_type": "code",
   "execution_count": 16,
   "metadata": {},
   "outputs": [
    {
     "data": {
      "text/html": [
       "<div>\n",
       "<style scoped>\n",
       "    .dataframe tbody tr th:only-of-type {\n",
       "        vertical-align: middle;\n",
       "    }\n",
       "\n",
       "    .dataframe tbody tr th {\n",
       "        vertical-align: top;\n",
       "    }\n",
       "\n",
       "    .dataframe thead th {\n",
       "        text-align: right;\n",
       "    }\n",
       "</style>\n",
       "<table border=\"1\" class=\"dataframe\">\n",
       "  <thead>\n",
       "    <tr style=\"text-align: right;\">\n",
       "      <th></th>\n",
       "      <th>4</th>\n",
       "      <th>5</th>\n",
       "      <th>6</th>\n",
       "    </tr>\n",
       "  </thead>\n",
       "  <tbody>\n",
       "    <tr>\n",
       "      <th>MAE</th>\n",
       "      <td>3.041912</td>\n",
       "      <td>3.057647</td>\n",
       "      <td>3.144608</td>\n",
       "    </tr>\n",
       "    <tr>\n",
       "      <th>MSE</th>\n",
       "      <td>27.820190</td>\n",
       "      <td>29.404220</td>\n",
       "      <td>30.276936</td>\n",
       "    </tr>\n",
       "  </tbody>\n",
       "</table>\n",
       "</div>"
      ],
      "text/plain": [
       "             4          5          6\n",
       "MAE   3.041912   3.057647   3.144608\n",
       "MSE  27.820190  29.404220  30.276936"
      ]
     },
     "execution_count": 16,
     "metadata": {},
     "output_type": "execute_result"
    }
   ],
   "source": [
    "mse_neigh_other_num = []\n",
    "mae_neigh_other_num = []\n",
    "\n",
    "########################################################\n",
    "# TO_DO\n",
    "#[your code here]\n",
    "\n",
    "for n_neighbors in range(4, 7):\n",
    "    neigh = KNeighborsRegressor(n_neighbors=n_neighbors)\n",
    "    neigh.fit(X_train, y_train)\n",
    "    \n",
    "    y_neigh = neigh.predict(X_test)\n",
    "    \n",
    "    mse_neigh_other_num.append(mean_squared_error(y_test, y_neigh))\n",
    "    mae_neigh_other_num.append(mean_absolute_error(y_test, y_neigh))\n",
    "\n",
    "\n",
    "errors = pd.DataFrame.from_dict({'MAE': mae_neigh_other_num,\n",
    "                                 'MSE': mse_neigh_other_num},\n",
    "                                 orient='index', columns=range(4, 7))\n",
    "\n",
    "# /TO_DO\n",
    "########################################################\n",
    "\n",
    "errors"
   ]
  },
  {
   "cell_type": "markdown",
   "metadata": {},
   "source": [
    "### _Gradient Boosting Regression_\n",
    "\n",
    "Finally, using the Scikit-learn `GradientBoostingRegressor` function we perform regression. A number of hyperparameters can be specified in the `sklearn.ensemble.GradientBoostingRegressor` module. Here we set `loss = 'quantile'` with `alpha = 0.95`:"
   ]
  },
  {
   "cell_type": "code",
   "execution_count": 17,
   "metadata": {},
   "outputs": [],
   "source": [
    "gb = GradientBoostingRegressor(loss='quantile', alpha=0.95,\n",
    "                                n_estimators=250, max_depth=3,\n",
    "                                learning_rate=.1, min_samples_leaf=9,\n",
    "                                min_samples_split=9)\n",
    "gb.fit(X_train, y_train)\n",
    "\n",
    "y_gb = gb.predict(X_test)\n",
    "\n",
    "mse_gb = mean_squared_error(y_test, y_gb)\n",
    "mae_gb = mean_absolute_error(y_test, y_gb)"
   ]
  },
  {
   "cell_type": "markdown",
   "metadata": {},
   "source": [
    "__Task:__  \n",
    "Now repeat the analysis, try different types of loss functions as well as other differemt types of hyperparameter settings. Compare the performances with MSEs and MAEs.\n",
    "\n",
    "*Hint: you may find the documentation helpful. To view the documentation, use the following command `help(GradientBoostingRegressor)`.*"
   ]
  },
  {
   "cell_type": "code",
   "execution_count": 18,
   "metadata": {},
   "outputs": [
    {
     "data": {
      "text/html": [
       "<div>\n",
       "<style scoped>\n",
       "    .dataframe tbody tr th:only-of-type {\n",
       "        vertical-align: middle;\n",
       "    }\n",
       "\n",
       "    .dataframe tbody tr th {\n",
       "        vertical-align: top;\n",
       "    }\n",
       "\n",
       "    .dataframe thead th {\n",
       "        text-align: right;\n",
       "    }\n",
       "</style>\n",
       "<table border=\"1\" class=\"dataframe\">\n",
       "  <thead>\n",
       "    <tr style=\"text-align: right;\">\n",
       "      <th></th>\n",
       "      <th>0.7</th>\n",
       "      <th>0.75</th>\n",
       "      <th>0.8</th>\n",
       "      <th>0.85</th>\n",
       "      <th>0.9</th>\n",
       "    </tr>\n",
       "  </thead>\n",
       "  <tbody>\n",
       "    <tr>\n",
       "      <th>ls</th>\n",
       "      <td>8.013753</td>\n",
       "      <td>8.013753</td>\n",
       "      <td>8.013753</td>\n",
       "      <td>8.013753</td>\n",
       "      <td>8.013753</td>\n",
       "    </tr>\n",
       "    <tr>\n",
       "      <th>quantile</th>\n",
       "      <td>12.022398</td>\n",
       "      <td>9.778639</td>\n",
       "      <td>10.760599</td>\n",
       "      <td>13.803513</td>\n",
       "      <td>23.449694</td>\n",
       "    </tr>\n",
       "  </tbody>\n",
       "</table>\n",
       "</div>"
      ],
      "text/plain": [
       "               0.70      0.75       0.80       0.85       0.90\n",
       "ls         8.013753  8.013753   8.013753   8.013753   8.013753\n",
       "quantile  12.022398  9.778639  10.760599  13.803513  23.449694"
      ]
     },
     "execution_count": 18,
     "metadata": {},
     "output_type": "execute_result"
    }
   ],
   "source": [
    "losses = ['ls', 'quantile']\n",
    "alphas = np.linspace(0.7, 0.9, 5)\n",
    "\n",
    "mse_gb_other_param = np.empty([len(losses), len(alphas)])\n",
    "mae_gb_other_param = np.empty([len(losses), len(alphas)])\n",
    "\n",
    "########################################################\n",
    "# TO_DO\n",
    "#[your code here]\n",
    "\n",
    "for loss_counter, loss in enumerate(losses):\n",
    "    for alpha_counter, alpha in enumerate(alphas):\n",
    "        gb = GradientBoostingRegressor(loss=loss, alpha=alpha,\n",
    "                                        n_estimators=250, max_depth=3,\n",
    "                                        learning_rate=.1, min_samples_leaf=9,\n",
    "                                        min_samples_split=9)\n",
    "        gb.fit(X_train, y_train)\n",
    "        y_gb = gb.predict(X_test)\n",
    "        \n",
    "        mse_gb_other_param[loss_counter, alpha_counter] = mean_squared_error(y_test, y_gb)\n",
    "        mae_gb_other_param[loss_counter, alpha_counter] = mean_absolute_error(y_test, y_gb)\n",
    "        \n",
    "mse_errors = pd.DataFrame(data=mse_gb_other_param,index=losses, columns=alphas)        \n",
    "mae_errors = pd.DataFrame(data=mae_gb_other_param,index=losses, columns=alphas)        \n",
    "\n",
    "# /TO_DO\n",
    "########################################################\n",
    "\n",
    "mse_errors"
   ]
  },
  {
   "cell_type": "code",
   "execution_count": 19,
   "metadata": {},
   "outputs": [
    {
     "data": {
      "text/html": [
       "<div>\n",
       "<style scoped>\n",
       "    .dataframe tbody tr th:only-of-type {\n",
       "        vertical-align: middle;\n",
       "    }\n",
       "\n",
       "    .dataframe tbody tr th {\n",
       "        vertical-align: top;\n",
       "    }\n",
       "\n",
       "    .dataframe thead th {\n",
       "        text-align: right;\n",
       "    }\n",
       "</style>\n",
       "<table border=\"1\" class=\"dataframe\">\n",
       "  <thead>\n",
       "    <tr style=\"text-align: right;\">\n",
       "      <th></th>\n",
       "      <th>0.7</th>\n",
       "      <th>0.75</th>\n",
       "      <th>0.8</th>\n",
       "      <th>0.85</th>\n",
       "      <th>0.9</th>\n",
       "    </tr>\n",
       "  </thead>\n",
       "  <tbody>\n",
       "    <tr>\n",
       "      <th>ls</th>\n",
       "      <td>2.001390</td>\n",
       "      <td>2.001390</td>\n",
       "      <td>2.001390</td>\n",
       "      <td>2.001390</td>\n",
       "      <td>2.001390</td>\n",
       "    </tr>\n",
       "    <tr>\n",
       "      <th>quantile</th>\n",
       "      <td>2.267968</td>\n",
       "      <td>2.209208</td>\n",
       "      <td>2.376486</td>\n",
       "      <td>2.852095</td>\n",
       "      <td>3.546147</td>\n",
       "    </tr>\n",
       "  </tbody>\n",
       "</table>\n",
       "</div>"
      ],
      "text/plain": [
       "              0.70      0.75      0.80      0.85      0.90\n",
       "ls        2.001390  2.001390  2.001390  2.001390  2.001390\n",
       "quantile  2.267968  2.209208  2.376486  2.852095  3.546147"
      ]
     },
     "execution_count": 19,
     "metadata": {},
     "output_type": "execute_result"
    }
   ],
   "source": [
    "mae_errors"
   ]
  },
  {
   "cell_type": "markdown",
   "metadata": {},
   "source": [
    "### _Compare Performances_\n",
    "\n",
    "This section compares the predictions using different algorithms. We first create some scatter plots to visualise the differences between actual values and the predicted values. "
   ]
  },
  {
   "cell_type": "code",
   "execution_count": 20,
   "metadata": {},
   "outputs": [
    {
     "data": {
      "image/png": "[encoded data removed]",
      "text/plain": [
       "<Figure size 432x288 with 4 Axes>"
      ]
     },
     "metadata": {
      "needs_background": "light"
     },
     "output_type": "display_data"
    }
   ],
   "source": [
    "fig, axes = plt.subplots(2, 2, sharex=True)\n",
    "\n",
    "mse = [mse_avg, mse_lr, mse_neigh, mse_gb]\n",
    "mae = [mae_avg, mae_lr, mae_neigh, mae_gb]\n",
    "\n",
    "titles = ['average y', 'linear regression', 'KNN', 'gradient boosting']\n",
    "predictions = [y_avg, y_lr, y_neigh, y_gb]\n",
    "\n",
    "for counter, ax in enumerate(axes.flat):\n",
    "    ax.scatter(predictions[counter], y_test)\n",
    "    ax.set_title(titles[counter])\n",
    "\n",
    "plt.show()"
   ]
  },
  {
   "cell_type": "markdown",
   "metadata": {},
   "source": [
    "Next we view the MAE and MSE of the predicted values, consolidated using `pandas.DataFrame()`:"
   ]
  },
  {
   "cell_type": "code",
   "execution_count": 21,
   "metadata": {},
   "outputs": [
    {
     "data": {
      "text/html": [
       "<div>\n",
       "<style scoped>\n",
       "    .dataframe tbody tr th:only-of-type {\n",
       "        vertical-align: middle;\n",
       "    }\n",
       "\n",
       "    .dataframe tbody tr th {\n",
       "        vertical-align: top;\n",
       "    }\n",
       "\n",
       "    .dataframe thead th {\n",
       "        text-align: right;\n",
       "    }\n",
       "</style>\n",
       "<table border=\"1\" class=\"dataframe\">\n",
       "  <thead>\n",
       "    <tr style=\"text-align: right;\">\n",
       "      <th></th>\n",
       "      <th>average y</th>\n",
       "      <th>linear regression</th>\n",
       "      <th>KNN</th>\n",
       "      <th>gradient boosting</th>\n",
       "    </tr>\n",
       "  </thead>\n",
       "  <tbody>\n",
       "    <tr>\n",
       "      <th>MAE</th>\n",
       "      <td>6.255844</td>\n",
       "      <td>3.343341</td>\n",
       "      <td>2.991176</td>\n",
       "      <td>4.262806</td>\n",
       "    </tr>\n",
       "    <tr>\n",
       "      <th>MSE</th>\n",
       "      <td>75.045430</td>\n",
       "      <td>29.029078</td>\n",
       "      <td>26.613584</td>\n",
       "      <td>36.054130</td>\n",
       "    </tr>\n",
       "  </tbody>\n",
       "</table>\n",
       "</div>"
      ],
      "text/plain": [
       "     average y  linear regression        KNN  gradient boosting\n",
       "MAE   6.255844           3.343341   2.991176           4.262806\n",
       "MSE  75.045430          29.029078  26.613584          36.054130"
      ]
     },
     "execution_count": 21,
     "metadata": {},
     "output_type": "execute_result"
    }
   ],
   "source": [
    "errors = pd.DataFrame.from_dict({'MAE': [mae_avg, mae_lr, mae_neigh, mae_gb],\n",
    "                                 'MSE': [mse_avg, mse_lr, mse_neigh, mse_gb]},\n",
    "                                 orient='index', columns=titles)\n",
    "errors"
   ]
  },
  {
   "cell_type": "markdown",
   "metadata": {},
   "source": [
    "__Task:__  \n",
    "Compare the performances with your results using different parameters in KNN and Gradient Boosting.\n",
    "\n",
    "Did different hyperparameter settings in these algorithms have any effects on the accuracy of our predictions? \n",
    "\n",
    "Could you come up with a method to automatically choose the value of these hyperparameters?"
   ]
  },
  {
   "cell_type": "code",
   "execution_count": 22,
   "metadata": {},
   "outputs": [],
   "source": [
    "# [INSERT YOUR ANSWER HERE]\n",
    "# This question is refering to the model selection problem, which we will deal with in detail in further lectures.\n",
    "# A common way of handling model selection is via the use of Cross validation (which will be introduced in future lectures)\n",
    "# "
   ]
  },
  {
   "cell_type": "code",
   "execution_count": null,
   "metadata": {},
   "outputs": [],
   "source": []
  }
 ],
 "metadata": {
  "kernelspec": {
   "display_name": "Python 3",
   "language": "python",
   "name": "python3"
  },
  "language_info": {
   "codemirror_mode": {
    "name": "ipython",
    "version": 3
   },
   "file_extension": ".py",
   "mimetype": "text/x-python",
   "name": "python",
   "nbconvert_exporter": "python",
   "pygments_lexer": "ipython3",
   "version": "3.7.3"
  }
 },
 "nbformat": 4,
 "nbformat_minor": 1
}
